{
 "cells": [
  {
   "cell_type": "code",
   "execution_count": 4,
   "metadata": {},
   "outputs": [
    {
     "name": "stdout",
     "output_type": "stream",
     "text": [
      "aquarium:\n",
      "  host: http://0.0.0.0\n",
      "  login: vrana\n",
      "  password: Mountain5\n",
      "neo:\n",
      "  host: bolt://localhost\n",
      "  port: '7687'\n",
      "  uri: ${neo.host}:${neo.port}\n",
      "  user: neo4j\n",
      "  password: redpill\n",
      "docker:\n",
      "  version: '2.0'\n",
      "  services:\n",
      "    neo4j:\n",
      "      image: neo4j\n",
      "      environment:\n",
      "      - NEO4J_AUTH=neo4j/test\n",
      "      ports:\n",
      "      - 7474:7474\n",
      "      - 7687:7687\n",
      "      volumes:\n",
      "      - $HOME/bin/neo4j/data:/data\n",
      "      - $HOME/bin/neo4j/logs:/logs\n",
      "      - $HOME/bin/neo4j/import:/var/lib/neo4j/import\n",
      "      - $HOME/bin/neo4j/plugins:/plugins\n",
      "\n"
     ]
    }
   ],
   "source": [
    "from hydra.experimental import compose, initialize\n",
    "from omegaconf import OmegaConf\n",
    "from pydent import AqSession\n",
    "\n",
    "\n",
    "def get_config(overrides=None, config_path='conf', config_name='config', override_with_docker_compose: str = 'docker-compose.yaml'):\n",
    "    overrides = overrides or []\n",
    "    \n",
    "    with initialize(config_path=config_path):\n",
    "        cfg = compose(config_name=config_name, overrides=overrides)\n",
    "\n",
    "    # correct port from docker-compose file\n",
    "    ports = cfg.docker.services.neo4j.ports\n",
    "    port_mapping = {}\n",
    "    for p in ports:\n",
    "        _from, _to = p.split(':')\n",
    "        port_mapping[_from] = _to\n",
    "    cfg.neo.port = port_mapping['7687']\n",
    "    return cfg\n",
    "\n",
    "def aq_sess(cfg):\n",
    "    return AqSession(cfg.aquarium.login, cfg.aquarium.password, cfg.aquarium.host)\n",
    "\n",
    "def neo_driver(conf):\n",
    "    return GraphDatabase.driver(conf.neo.host, auth=(conf.neo.user, conf.neo.password))\n",
    "    \n",
    "cfg = get_config()\n",
    "\n",
    "aq = aq_sess(cfg)\n",
    "\n",
    "print(OmegaConf.to_yaml(cfg))"
   ]
  },
  {
   "cell_type": "code",
   "execution_count": 31,
   "metadata": {},
   "outputs": [
    {
     "name": "stdout",
     "output_type": "stream",
     "text": [
      "<Sample id=34562 name=mynewsampleb1556bd7-4b10-48b0-b253-7652de61f2b8 sample_type=None rid=150>\n",
      "<Sample id=34563 name=mynewsampleb1556bd7-4b10-48b0-b253-7652de61f2b8|B06228357bddf-5cc2-4a35-bd9c-b810a0def5d7 sample_type=None rid=151>\n",
      "<Sample id=34561 name=mynewsampled5579ff3-04d7-42c1-96ca-507997c389f3 sample_type=None rid=152>\n",
      "<Sample id=34560 name=74e5be4b-da71-4ff7-be20-c4104e121a20 sample_type=None rid=153>\n",
      "<Sample id=34559 name=215e4658-9ab5-4d5f-8473-94f2dd9937d8 sample_type=None rid=154>\n",
      "<Sample id=34556 name=mynewsamplead3d8fe5-a017-4ca3-8380-38da36fcd7e8 sample_type=None rid=155>\n",
      "<Sample id=34557 name=mynewsamplec4c301d9-2903-4702-9d82-c31c9b8f7fb0 sample_type=None rid=156>\n",
      "<Sample id=34558 name=mynewsamplead3d8fe5-a017-4ca3-8380-38da36fcd7e8|B0622553d7e41-0c60-47f6-8232-f2fa4f24c567 sample_type=None rid=157>\n",
      "<Sample id=34554 name=d85fe093-7752-4053-b03b-90d00560f3d4 sample_type=None rid=158>\n",
      "<Sample id=34555 name=566fe2a5-e8d8-492c-9a4e-c7d05478882e sample_type=None rid=159>\n",
      "{'label': 'Sample'}\n",
      "label\n"
     ]
    },
    {
     "data": {
      "text/plain": [
       "[[<Node id=6 labels=frozenset({'Sample'}) properties={'sample_type_id': 1, 'updated_at': '2020-06-18T16:37:02.000-07:00', 'user_id': 66, 'name': '215e4658-9ab5-4d5f-8473-94f2dd9937d8', 'description': '', 'created_at': '2020-06-18T16:37:02.000-07:00', 'project': 'test', 'id': 34559, 'rid': 154}>],\n",
       " [<Node id=7 labels=frozenset({'Sample'}) properties={'sample_type_id': 5, 'updated_at': '2020-06-12T09:47:21.000-07:00', 'user_id': 66, 'name': 'mynewsamplead3d8fe5-a017-4ca3-8380-38da36fcd7e8', 'description': 'b51eed7c-3077-48bc-bb66-0b4baf2e6777', 'created_at': '2020-06-12T09:47:10.000-07:00', 'project': 'trident', 'id': 34556, 'rid': 155}>],\n",
       " [<Node id=8 labels=frozenset({'Sample'}) properties={'sample_type_id': 5, 'updated_at': '2020-06-12T09:47:10.000-07:00', 'user_id': 66, 'name': 'mynewsamplec4c301d9-2903-4702-9d82-c31c9b8f7fb0', 'created_at': '2020-06-12T09:47:10.000-07:00', 'project': 'trident', 'id': 34557, 'rid': 156}>],\n",
       " [<Node id=9 labels=frozenset({'Sample'}) properties={'sample_type_id': 5, 'updated_at': '2020-06-12T09:47:10.000-07:00', 'user_id': 66, 'name': 'mynewsamplead3d8fe5-a017-4ca3-8380-38da36fcd7e8|B0622553d7e41-0c60-47f6-8232-f2fa4f24c567', 'created_at': '2020-06-12T09:47:10.000-07:00', 'project': 'trident', 'id': 34558, 'rid': 157}>],\n",
       " [<Node id=10 labels=frozenset({'Sample'}) properties={'sample_type_id': 1, 'updated_at': '2020-06-12T09:46:55.000-07:00', 'user_id': 66, 'name': 'd85fe093-7752-4053-b03b-90d00560f3d4', 'description': '', 'created_at': '2020-06-12T09:46:55.000-07:00', 'project': 'test', 'id': 34554, 'rid': 158}>],\n",
       " [<Node id=11 labels=frozenset({'Sample'}) properties={'sample_type_id': 4, 'updated_at': '2020-06-12T09:46:55.000-07:00', 'user_id': 66, 'name': '566fe2a5-e8d8-492c-9a4e-c7d05478882e', 'description': '', 'created_at': '2020-06-12T09:46:55.000-07:00', 'project': 'test', 'id': 34555, 'rid': 159}>],\n",
       " [<Node id=12 labels=frozenset({'Sample'}) properties={'sample_type_id': 5, 'updated_at': '2020-06-18T16:37:30.000-07:00', 'user_id': 66, 'name': 'mynewsampleb1556bd7-4b10-48b0-b253-7652de61f2b8', 'description': '973c1bd1-9bee-4427-a0c9-bd5d9ce76657', 'created_at': '2020-06-18T16:37:19.000-07:00', 'project': 'trident', 'id': 34562, 'rid': 150}>],\n",
       " [<Node id=13 labels=frozenset({'Sample'}) properties={'sample_type_id': 5, 'updated_at': '2020-06-18T16:37:19.000-07:00', 'user_id': 66, 'name': 'mynewsampleb1556bd7-4b10-48b0-b253-7652de61f2b8|B06228357bddf-5cc2-4a35-bd9c-b810a0def5d7', 'created_at': '2020-06-18T16:37:19.000-07:00', 'project': 'trident', 'id': 34563, 'rid': 151}>],\n",
       " [<Node id=14 labels=frozenset({'Sample'}) properties={'sample_type_id': 5, 'updated_at': '2020-06-18T16:37:18.000-07:00', 'user_id': 66, 'name': 'mynewsampled5579ff3-04d7-42c1-96ca-507997c389f3', 'created_at': '2020-06-18T16:37:18.000-07:00', 'project': 'trident', 'id': 34561, 'rid': 152}>],\n",
       " [<Node id=15 labels=frozenset({'Sample'}) properties={'sample_type_id': 4, 'updated_at': '2020-06-18T16:37:02.000-07:00', 'user_id': 66, 'name': '74e5be4b-da71-4ff7-be20-c4104e121a20', 'description': '', 'created_at': '2020-06-18T16:37:02.000-07:00', 'project': 'test', 'id': 34560, 'rid': 153}>]]"
      ]
     },
     "execution_count": 31,
     "metadata": {},
     "output_type": "execute_result"
    }
   ],
   "source": [
    "from neo4j import GraphDatabase\n",
    "from neo4j.exceptions import ClientError\n",
    "import re\n",
    "\n",
    "class AquariumETL:\n",
    "\n",
    "    def __init__(self, uri, user, password):\n",
    "        self.driver = GraphDatabase.driver(uri, auth=(user, password))\n",
    "        try:\n",
    "            self.setup()\n",
    "        except ClientError:\n",
    "            pass\n",
    "\n",
    "    def close(self):\n",
    "        self.driver.close()\n",
    "        \n",
    "    def setup(self):\n",
    "        with self.driver.session() as session:\n",
    "            session.run(\"CREATE CONSTRAINT primary_key \"\n",
    "                            \"ON (sample:Sample) ASSERT sample.id IS UNIQUE\")\n",
    "        \n",
    "    def create_constraint(model):\n",
    "        with self.driver.session() as sess:\n",
    "            session.run()  #\"CREATE CONSTRAIN {}_primary_key \".format(model.get_tableized_name())\n",
    "                        #\"ON (m:{n} ASSERT m.{id} is UNIQUE\".format(n=model.get_server_model_name(), 'id'))\n",
    "            \n",
    "    def clear(self):\n",
    "        with self.driver.session() as sess:\n",
    "            sess.run(\"match (a) -[r] -> () delete a, r\")\n",
    "            sess.run(\"match (a) delete a\")\n",
    "    \n",
    "    def update(self, model, mode=\"MATCH\"):\n",
    "        with self.driver.session() as session:\n",
    "            node_label = model.get_server_model_name()\n",
    "            data = model.dump()\n",
    "            return session.write_transaction(self._create, node_label, data, mode=mode)\n",
    "\n",
    "    def create(self, model):\n",
    "        return self.update(model, mode='CREATE')\n",
    "    \n",
    "    @staticmethod\n",
    "    def _create(tx, node_label, data, mode=\"CREATE\"):\n",
    "        a = \"\"\"\n",
    "        $mode (a:{})\n",
    "        SET a.$k\n",
    "        \"\"\"\n",
    "        query = \"{mode} (a:{label}) \".format(mode=mode, label=node_label)\n",
    "        query += ''.join([\"SET a.{k} = ${k} \".format(k=k) for k in data])\n",
    "        query += \" RETURN a\"\n",
    "        result = tx.run(query, **data)\n",
    "        return result.single()[0]\n",
    "    \n",
    "    \n",
    "#     def where(self, query, on_return=None):\n",
    "#         if on_return is None:\n",
    "#             def on_return(result):\n",
    "#                 return result.values()\n",
    "#         with self.driver.session() as session:\n",
    "#             query_str = ', '.join([\"{k}: ${k}\".format(k=k, v=v) for k, v in query.items()])\n",
    "#             query_str = \"{{ {} }}\".format(query_str)\n",
    "#             q = \"MATCH (n {})\".format(query_str)\n",
    "#             return on_return(session.run(\"MATCH (n {id: $id, id: $id}) RETURN n\", **query))\n",
    "\n",
    "    @staticmethod\n",
    "    def _set(data):\n",
    "        \n",
    "\n",
    "    @staticmethod\n",
    "    def process_query(query, **kwargs):\n",
    "        found_keys = set()\n",
    "        for k in re.findall(\"\\$(\\w+)\", query):\n",
    "            print(kwargs)\n",
    "            if k in kwargs:\n",
    "                print(k)\n",
    "                query = re.sub(\"\\${}\".format(k), str(kwargs[k]), query)\n",
    "                found_keys.add(k)\n",
    "        \n",
    "        return query, found_keys\n",
    "\n",
    "    @classmethod\n",
    "    def _create_tx(cls, query, process, **kwargs):\n",
    "        query, used_keys = cls.process_query(query, **kwargs)\n",
    "        remaining_keys = set(kwargs).difference(used_keys)\n",
    "        remaining_kwargs = {k: kwargs[k] for k in remaining_keys}\n",
    "        def transaction(tx):\n",
    "            result = tx.run(query, **remaining_kwargs)\n",
    "            return process(result)\n",
    "        return transaction\n",
    "\n",
    "    def write(self, query, **kwargs):\n",
    "        with self.driver.session() as session:\n",
    "            tx = self._create_tx(query, process=lambda x: x.values(), **kwargs)\n",
    "            return session.write_transaction(tx)\n",
    "        \n",
    "    def read(self, query, **kwargs):\n",
    "        with self.driver.session() as session:\n",
    "            tx = self._create_tx(query, process=lambda x: x.values(), **kwargs)\n",
    "            return session.read_transaction(tx)\n",
    "    \n",
    "    \n",
    "        \n",
    "\n",
    "etl = AquariumETL(cfg.neo.uri, cfg.neo.user, cfg.neo.password)\n",
    "etl.clear()\n",
    "\n",
    "for model in aq.Sample.last(10):\n",
    "    print(model)\n",
    "    etl.create(model)\n",
    "    \n",
    "\n",
    "# etl.process_query(\"n:$label\", label='sample')\n",
    "etl.read('MATCH (n:$label) RETURN n', label='Sample')"
   ]
  },
  {
   "cell_type": "code",
   "execution_count": 106,
   "metadata": {},
   "outputs": [
    {
     "data": {
      "text/plain": [
       "[0, 0, 0, 3, 3]"
      ]
     },
     "execution_count": 106,
     "metadata": {},
     "output_type": "execute_result"
    }
   ],
   "source": [
    "def _lengths(*args):\n",
    "    length = None\n",
    "    idxs = []\n",
    "    for arg in args:\n",
    "        if isinstance(arg, list) or isinstance(arg, tuple):\n",
    "            if length is None:\n",
    "                length = len(arg)\n",
    "            elif len(arg) != length:\n",
    "                raise ValueException\n",
    "            idxs.append(length)\n",
    "        else:\n",
    "            idxs.append(0)\n",
    "    return idxs\n",
    "\n",
    "_lengths(1, 2, 3, [2, 3, 4], [4, 5, 3])"
   ]
  },
  {
   "cell_type": "code",
   "execution_count": 100,
   "metadata": {},
   "outputs": [
    {
     "name": "stdout",
     "output_type": "stream",
     "text": [
      "set()\n",
      "{'label', 'mode'}\n",
      "{'key'}\n",
      "set()\n"
     ]
    }
   ],
   "source": [
    "\n",
    "\n",
    "query = \"\"\"\n",
    "{mode} (n:{label})\n",
    "SET n.{key[1]} = ${key[0]}\n",
    "RETURN n\n",
    "\"\"\"\n",
    "\n",
    "def _iter_zip(*args):\n",
    "    iter_arr = []\n",
    "    arr = []\n",
    "    iter_arr_idx = []\n",
    "    arr_idx = []\n",
    "    for i, a in enumerate(args):\n",
    "        if isinstance(a, list) or isinstance(a, tuple):\n",
    "            iter_arr.append(a)\n",
    "            iter_arr_idx.append(i)\n",
    "        else:\n",
    "            arr.append(a)\n",
    "            arr_idx.append(i)\n",
    "            \n",
    "    lengths = [len(x) for x in iter_arr]\n",
    "    if len(set(lengths)) > 1:\n",
    "        raise ValueError(\"Iterables provided must be exactly same length. Found \" + str(lengths))\n",
    "    \n",
    "    if lengths:\n",
    "        expected_lengths = lengths[0]\n",
    "    else:\n",
    "        expected_lengths = 1\n",
    "        \n",
    "    expanded_arr = [[a]*expected_lengths for a in arr]\n",
    "    yield from zip(*iter_arr, *expanded_arr)\n",
    "    \n",
    "    \n",
    "\n",
    "kwargs = {\"key\": ['mykey', 'otherkey'], 'mode': 'CREATE', 'label': 'label'}\n",
    "formatted_lines = []\n",
    "pattern = re.compile(\"{\\s*(\\w+)\\s*}\")\n",
    "for line in query.splitlines():\n",
    "    formatted = line\n",
    "    \n",
    "    keys = list()\n",
    "    for match in pattern.finditer(line):\n",
    "        key = match.group(1)\n",
    "        if key in kwargs and key not in keys:\n",
    "            keys.add(key)\n",
    "    vals = [kwargs[k] for k in keys]\n",
    "    for key, val in \n",
    "        \n",
    "    \n",
    "    \n",
    "            \n",
    "    \n",
    "#         val = kwargs[key]\n",
    "#         if not isinstance(val, list):\n",
    "#             val = [val]\n",
    "#         for _val in val:\n",
    "#             formatted = re.sub(match.group(0), _val, formatted)\n",
    "#     formatted_lines.append(formatted.strip())\n",
    "\n",
    "# print('\\n'.join(formatted_lines))\n",
    "    \n",
    "#     for key in keys:\n",
    "#         if key in kwargs:\n",
    "#             val = kwargs[key]\n",
    "#             re.sub()\n",
    "\n",
    "# def query_format(query, **kwargs):\n",
    "#     formatted_lines = []\n",
    "#     for line in query.splitlines():\n",
    "#         if line.strip():\n",
    "            "
   ]
  },
  {
   "cell_type": "code",
   "execution_count": 96,
   "metadata": {},
   "outputs": [
    {
     "data": {
      "text/plain": [
       "[(1, 3, 1, 2), (2, 2, 1, 2), (3, 5, 1, 2)]"
      ]
     },
     "execution_count": 96,
     "metadata": {},
     "output_type": "execute_result"
    }
   ],
   "source": [
    "def _iter_zip(*args):\n",
    "    iter_arr = []\n",
    "    arr = []\n",
    "    for a in args:\n",
    "        if isinstance(a, list) or isinstance(a, tuple):\n",
    "            iter_arr.append(a)\n",
    "        else:\n",
    "            arr.append(a)\n",
    "    lengths = [len(x) for x in iter_arr]\n",
    "    if len(set(lengths)) > 1:\n",
    "        raise ValueError(\"Iterables provided must be exactly same length. Found \" + str(lengths))\n",
    "    \n",
    "    if lengths:\n",
    "        expected_lengths = lengths[0]\n",
    "    else:\n",
    "        expected_lengths = 1\n",
    "        \n",
    "    expanded_arr = [[a]*expected_lengths for a in arr]\n",
    "    yield from zip(*iter_arr, *expanded_arr)\n",
    "    \n",
    "list(_iter_zip(1, 2, [1, 2, 3], [3, 2, 5]))\n",
    "    "
   ]
  },
  {
   "cell_type": "code",
   "execution_count": 59,
   "metadata": {},
   "outputs": [
    {
     "data": {
      "text/plain": [
       "'key'"
      ]
     },
     "execution_count": 59,
     "metadata": {},
     "output_type": "execute_result"
    }
   ],
   "source": [
    "match.group(1)"
   ]
  },
  {
   "cell_type": "code",
   "execution_count": 188,
   "metadata": {},
   "outputs": [
    {
     "name": "stdout",
     "output_type": "stream",
     "text": [
      "[[<Node id=3 labels=frozenset({'Sample'}) properties={'sample_type_id': 5, 'updated_at': '2020-06-18T16:37:30.000-07:00', 'user_id': 66, 'name': 'mynewsampleb1556bd7-4b10-48b0-b253-7652de61f2b8', 'description': '973c1bd1-9bee-4427-a0c9-bd5d9ce76657', 'created_at': '2020-06-18T16:37:19.000-07:00', 'project': 'trident', 'id': 34562, 'rid': 73}>], [<Node id=4 labels=frozenset({'Sample'}) properties={'sample_type_id': 5, 'updated_at': '2020-06-18T16:37:19.000-07:00', 'user_id': 66, 'name': 'mynewsampleb1556bd7-4b10-48b0-b253-7652de61f2b8|B06228357bddf-5cc2-4a35-bd9c-b810a0def5d7', 'created_at': '2020-06-18T16:37:19.000-07:00', 'project': 'trident', 'id': 34563, 'rid': 74}>], [<Node id=5 labels=frozenset({'Sample'}) properties={'sample_type_id': 5, 'updated_at': '2020-06-18T16:37:18.000-07:00', 'user_id': 66, 'name': 'mynewsampled5579ff3-04d7-42c1-96ca-507997c389f3', 'created_at': '2020-06-18T16:37:18.000-07:00', 'project': 'trident', 'id': 34561, 'rid': 75}>], [<Node id=6 labels=frozenset({'Sample'}) properties={'sample_type_id': 4, 'updated_at': '2020-06-18T16:37:02.000-07:00', 'user_id': 66, 'name': '74e5be4b-da71-4ff7-be20-c4104e121a20', 'description': '', 'created_at': '2020-06-18T16:37:02.000-07:00', 'project': 'test', 'id': 34560, 'rid': 76}>], [<Node id=7 labels=frozenset({'Sample'}) properties={'sample_type_id': 1, 'updated_at': '2020-06-18T16:37:02.000-07:00', 'user_id': 66, 'name': '215e4658-9ab5-4d5f-8473-94f2dd9937d8', 'description': '', 'created_at': '2020-06-18T16:37:02.000-07:00', 'project': 'test', 'id': 34559, 'rid': 77}>], [<Node id=8 labels=frozenset({'Sample'}) properties={'sample_type_id': 5, 'updated_at': '2020-06-12T09:47:21.000-07:00', 'user_id': 66, 'name': 'mynewsamplead3d8fe5-a017-4ca3-8380-38da36fcd7e8', 'description': 'b51eed7c-3077-48bc-bb66-0b4baf2e6777', 'created_at': '2020-06-12T09:47:10.000-07:00', 'project': 'trident', 'id': 34556, 'rid': 78}>], [<Node id=9 labels=frozenset({'Sample'}) properties={'sample_type_id': 5, 'updated_at': '2020-06-12T09:47:10.000-07:00', 'user_id': 66, 'name': 'mynewsamplec4c301d9-2903-4702-9d82-c31c9b8f7fb0', 'created_at': '2020-06-12T09:47:10.000-07:00', 'project': 'trident', 'id': 34557, 'rid': 79}>], [<Node id=10 labels=frozenset({'Sample'}) properties={'sample_type_id': 5, 'updated_at': '2020-06-12T09:47:10.000-07:00', 'user_id': 66, 'name': 'mynewsamplead3d8fe5-a017-4ca3-8380-38da36fcd7e8|B0622553d7e41-0c60-47f6-8232-f2fa4f24c567', 'created_at': '2020-06-12T09:47:10.000-07:00', 'project': 'trident', 'id': 34558, 'rid': 80}>], [<Node id=11 labels=frozenset({'Sample'}) properties={'sample_type_id': 1, 'updated_at': '2020-06-12T09:46:55.000-07:00', 'user_id': 66, 'name': 'd85fe093-7752-4053-b03b-90d00560f3d4', 'description': '', 'created_at': '2020-06-12T09:46:55.000-07:00', 'project': 'test', 'id': 34554, 'rid': 81}>], [<Node id=23 labels=frozenset({'Sample'}) properties={'sample_type_id': 4, 'updated_at': '2020-06-12T09:46:55.000-07:00', 'user_id': 66, 'name': '566fe2a5-e8d8-492c-9a4e-c7d05478882e', 'description': '', 'created_at': '2020-06-12T09:46:55.000-07:00', 'project': 'test', 'id': 34555, 'rid': 82}>]]\n"
     ]
    }
   ],
   "source": [
    "q = \"MATCH (n) RETURN n\"\n",
    "with etl.driver.session() as session:\n",
    "    values = session.run(q).values()\n",
    "\n",
    "print(values)"
   ]
  },
  {
   "cell_type": "code",
   "execution_count": 10,
   "metadata": {},
   "outputs": [
    {
     "data": {
      "text/plain": [
       "('MATCH (n:mylabel) { id: $id }', {'label'})"
      ]
     },
     "execution_count": 10,
     "metadata": {},
     "output_type": "execute_result"
    }
   ],
   "source": [
    "import re\n",
    "\n",
    "def process_query(query, **kwargs):\n",
    "    found_keys = set()\n",
    "    for k in re.findall(\"\\$(\\w+)\", query):\n",
    "        if k in kwargs:\n",
    "            query = re.sub(\"\\${}\".format(k), str(kwargs[k]), query)\n",
    "            found_keys.add(k)\n",
    "    return query, found_keys\n",
    "\n",
    "\n",
    "def _create_tx(query, **kwargs):\n",
    "    query, used_keys = self.process_query(query, **kwargs)\n",
    "    remaining_keys = set(kwargs).difference(used_keys)\n",
    "    remaining_kwargs = {k: kwargs[k] for k in remaining_keys}\n",
    "    def transaction(tx):\n",
    "        result, tx.run(query, **remaining_kwargs)\n",
    "    return transaction\n",
    "\n",
    "def write(query, **kwargs):\n",
    "    with self.driver.session() as session:\n",
    "        return session.write_transaction(_create_tx(query))\n",
    "# def _create_transaction(query, **kwargs):\n",
    "#     query, used_keys = self.process_query(query, **kwargs)\n",
    "#     def transaction(tx, **kwargs):\n",
    "#         result = tx.run()\n",
    "\n",
    "\n",
    "# def write(query, **kwargs):\n",
    "#     query, used_keys = self._find_and_replace(query, **kwargs)\n",
    "#     remaining_keys = set(kwargs).difference(used_keys)\n",
    "#     def transaction(tx, **kwargs):\n",
    "#         result = tx.run()\n",
    "        \n",
    "#     with self.driver.session() as session:\n",
    "#         return session.read_transaction(transaction, **kwargs)\n",
    "    \n",
    "\n",
    "    \n",
    "s = \"MATCH (n:$label) { id: $id }\"\n",
    "process_query(s, label='mylabel')"
   ]
  },
  {
   "cell_type": "code",
   "execution_count": 163,
   "metadata": {},
   "outputs": [
    {
     "data": {
      "text/plain": [
       "['label', 'id']"
      ]
     },
     "execution_count": 163,
     "metadata": {},
     "output_type": "execute_result"
    }
   ],
   "source": [
    "re.findall(\"\\$(\\w+)\", s)"
   ]
  },
  {
   "cell_type": "code",
   "execution_count": 155,
   "metadata": {},
   "outputs": [
    {
     "ename": "NameError",
     "evalue": "name 'results' is not defined",
     "output_type": "error",
     "traceback": [
      "\u001B[0;31m---------------------------------------------------------------------------\u001B[0m",
      "\u001B[0;31mNameError\u001B[0m                                 Traceback (most recent call last)",
      "\u001B[0;32m<ipython-input-155-79e9736d9a86>\u001B[0m in \u001B[0;36m<module>\u001B[0;34m\u001B[0m\n\u001B[1;32m      5\u001B[0m     \u001B[0mresult\u001B[0m \u001B[0;34m=\u001B[0m \u001B[0msession\u001B[0m\u001B[0;34m.\u001B[0m\u001B[0mread_transaction\u001B[0m\u001B[0;34m(\u001B[0m\u001B[0mfoo\u001B[0m\u001B[0;34m)\u001B[0m\u001B[0;34m\u001B[0m\u001B[0;34m\u001B[0m\u001B[0m\n\u001B[1;32m      6\u001B[0m \u001B[0;34m\u001B[0m\u001B[0m\n\u001B[0;32m----> 7\u001B[0;31m \u001B[0mresults\u001B[0m\u001B[0;34m\u001B[0m\u001B[0;34m\u001B[0m\u001B[0m\n\u001B[0m",
      "\u001B[0;31mNameError\u001B[0m: name 'results' is not defined"
     ]
    }
   ],
   "source": [
    "# with etl.driver.session() as session:\n",
    "#     def foo(tx):\n",
    "#         result = tx.run(\"MATCH (n) RETURN n\")\n",
    "#         return result.values()\n",
    "#     result = session.read_transaction(foo)\n",
    "\n",
    "# results"
   ]
  },
  {
   "cell_type": "code",
   "execution_count": 127,
   "metadata": {},
   "outputs": [
    {
     "data": {
      "text/plain": [
       "<neo4j.work.result.Result at 0x7f77c0e63730>"
      ]
     },
     "execution_count": 127,
     "metadata": {},
     "output_type": "execute_result"
    }
   ],
   "source": [
    "result"
   ]
  },
  {
   "cell_type": "code",
   "execution_count": null,
   "outputs": [],
   "source": [
    "import re\n",
    "\n",
    "\n",
    "def find_format_keys(s):\n",
    "    return re.findall(\"{\\s*(\\w+)\\s*}\", s)\n",
    "\n",
    "def create_transaction(query, kwargs):\n",
    "    keys = find_format_keys(query)\n",
    "    other_keys = set(kwargs).difference(set(keys))\n",
    "    formatted_query = query.format(**kwargs)\n",
    "    remaining_kwargs = {k: kwargs[k] for k in other_keys}\n",
    "    \n",
    "    def _tx(tx, **kwargs):\n",
    "        result = tx.run(formatted_query, **kwargs)\n",
    "    print(formatted_query)\n",
    "    print(keys)\n",
    "    print(other_keys)\n",
    "    print(remaining_kwargs)\n",
    "    \n",
    "create_transaction(\"MATCH (n:{label} {{ id: $id }}) RETURN n\", dict(label='SAMPLE'))"
   ],
   "metadata": {
    "collapsed": false,
    "pycharm": {
     "name": "#%%\n"
    }
   }
  },
  {
   "cell_type": "code",
   "execution_count": null,
   "outputs": [],
   "source": [
    "with etl.driver.session() as session:\n",
    "    def find(tx):\n",
    "        return tx.run(\"MATCH (n) RETURN n\")\n",
    "    session.write_transaction(find)\n",
    "    \n",
    "etl.find(1, 2)()()"
   ],
   "metadata": {
    "collapsed": false,
    "pycharm": {
     "name": "#%%\n"
    }
   }
  },
  {
   "cell_type": "code",
   "execution_count": null,
   "outputs": [],
   "source": [
    "etl.driver.session().write_transaction"
   ],
   "metadata": {
    "collapsed": false,
    "pycharm": {
     "name": "#%%\n"
    }
   }
  },
  {
   "cell_type": "code",
   "execution_count": null,
   "outputs": [],
   "source": [
    "model = session.Sample.one()\n",
    "\n",
    "etl.update(model)"
   ],
   "metadata": {
    "collapsed": false,
    "pycharm": {
     "name": "#%%\n"
    }
   }
  },
  {
   "cell_type": "code",
   "execution_count": null,
   "outputs": [],
   "source": [],
   "metadata": {
    "collapsed": false,
    "pycharm": {
     "name": "#%%\n"
    }
   }
  },
  {
   "cell_type": "code",
   "execution_count": 104,
   "metadata": {},
   "outputs": [
    {
     "name": "stdout",
     "output_type": "stream",
     "text": [
      "MATCH (n:SAMPLE { id: $id }) RETURN n\n",
      "['label']\n",
      "set()\n",
      "{}\n"
     ]
    }
   ],
   "source": []
  },
  {
   "cell_type": "code",
   "execution_count": 34,
   "metadata": {},
   "outputs": [],
   "source": [
    "with etl.driver.session() as session:\n",
    "    def find(tx):\n",
    "        return tx.run(\"MATCH (n) RETURN n\")\n",
    "    session.write_transaction(find)\n",
    "    \n",
    "etl.find(1, 2)()()"
   ]
  },
  {
   "cell_type": "code",
   "execution_count": null,
   "metadata": {},
   "outputs": [],
   "source": [
    "etl.driver.session().write_transaction"
   ]
  },
  {
   "cell_type": "code",
   "execution_count": 24,
   "metadata": {},
   "outputs": [
    {
     "data": {
      "text/plain": [
       "<Node id=0 labels=frozenset({'Sample'}) properties={'sample_type_id': 5, 'updated_at': '2020-06-18T16:37:30.000-07:00', 'user_id': 66, 'name': 'mynewsampleb1556bd7-4b10-48b0-b253-7652de61f2b8', 'description': '973c1bd1-9bee-4427-a0c9-bd5d9ce76657', 'created_at': '2020-06-18T16:37:19.000-07:00', 'project': 'trident', 'id': 34562, 'rid': 12}>"
      ]
     },
     "execution_count": 24,
     "metadata": {},
     "output_type": "execute_result"
    }
   ],
   "source": [
    "model = session.Sample.one()\n",
    "\n",
    "etl.update(model)"
   ]
  },
  {
   "cell_type": "code",
   "execution_count": null,
   "metadata": {
    "collapsed": false,
    "jupyter": {
     "outputs_hidden": false
    },
    "pycharm": {
     "name": "#%%\n"
    }
   },
   "outputs": [],
   "source": []
  },
  {
   "cell_type": "code",
   "execution_count": null,
   "metadata": {},
   "outputs": [],
   "source": []
  },
  {
   "cell_type": "code",
   "execution_count": null,
   "metadata": {},
   "outputs": [],
   "source": []
  }
 ],
 "metadata": {
  "kernelspec": {
   "display_name": "Python 3",
   "language": "python",
   "name": "python3"
  },
  "language_info": {
   "codemirror_mode": {
    "name": "ipython",
    "version": 3
   },
   "file_extension": ".py",
   "mimetype": "text/x-python",
   "name": "python",
   "nbconvert_exporter": "python",
   "pygments_lexer": "ipython3",
   "version": "3.8.3"
  }
 },
 "nbformat": 4,
 "nbformat_minor": 4
}