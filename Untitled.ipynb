{
 "cells": [
  {
   "cell_type": "code",
   "execution_count": 2,
   "metadata": {},
   "outputs": [],
   "source": [
    "from pydent import AqSession\n",
    "\n",
    "session = AqSession('vrana', 'Mountain5', 'http://0.0.0.0')"
   ]
  },
  {
   "cell_type": "code",
   "execution_count": 22,
   "metadata": {},
   "outputs": [],
   "source": [
    "import multiprocessing\n",
    "\n"
   ]
  },
  {
   "cell_type": "code",
   "execution_count": null,
   "metadata": {},
   "outputs": [],
   "source": [
    "def pagination(\n",
    "    sess,\n",
    "    query: dict,\n",
    "    page_size: int,\n",
    "    methods: List[str] = None,\n",
    "    include: List[str] = None,\n",
    "    opts: dict = None,\n",
    ") -> Generator[list, None, None]:\n",
    "    \"\"\"Return pagination query (as a generator).\n",
    "\n",
    "    :param interface: SessionInterface\n",
    "    :param query: query\n",
    "    :param page_size: number of models to return per page\n",
    "    :param limit: total number of models to return\n",
    "    :param opts: additional options\n",
    "    :return: generator of list of models\n",
    "    \"\"\"\n",
    "    if opts is None:\n",
    "        opts = {}\n",
    "    limit = opts.get(\"limit\", -1)\n",
    "    if limit < page_size and limit >= 0:\n",
    "        page_size = limit\n",
    "    n = 0\n",
    "    if opts:\n",
    "        _opts = dict(opts)\n",
    "    else:\n",
    "        _opts = {}\n",
    "    while n < limit or limit == -1:\n",
    "        _opts[\"limit\"] = page_size\n",
    "        _opts[\"offset\"] = n\n",
    "        models = sess.where(query, methods=methods, include=include, opts=_opts)\n",
    "        if not models:\n",
    "            return\n",
    "        n += len(models)\n",
    "        yield models\n"
   ]
  },
  {
   "cell_type": "code",
   "execution_count": 24,
   "metadata": {},
   "outputs": [],
   "source": [
    "from multiprocessing.pool import ThreadPool"
   ]
  },
  {
   "cell_type": "code",
   "execution_count": 32,
   "metadata": {},
   "outputs": [
    {
     "name": "stderr",
     "output_type": "stream",
     "text": [
      "\n",
      "\n",
      "\n",
      "\n",
      "\n",
      "\n",
      "\n",
      "  0%|          | 0/12 [00:00<?, ?it/s]\u001b[A\u001b[A\u001b[A\u001b[A\u001b[A\u001b[A\u001b[A\n",
      "\n",
      "\n",
      "\n",
      "\n",
      "\n",
      "\n",
      "  8%|▊         | 1/12 [00:00<00:04,  2.72it/s]\u001b[A\u001b[A\u001b[A\u001b[A\u001b[A\u001b[A\u001b[A\n",
      "\n",
      "\n",
      "\n",
      "\n",
      "\n",
      "\n",
      " 92%|█████████▏| 11/12 [00:00<00:00,  3.83it/s]\u001b[A\u001b[A\u001b[A\u001b[A\u001b[A\u001b[A\u001b[A"
     ]
    },
    {
     "name": "stdout",
     "output_type": "stream",
     "text": [
      "ok\n",
      "ok\n",
      "ok\n",
      "ok\n",
      "ok\n",
      "ok\n",
      "ok\n",
      "ok\n",
      "ok\n",
      "ok\n",
      "ok\n",
      "ok\n",
      "600\n"
     ]
    },
    {
     "name": "stderr",
     "output_type": "stream",
     "text": [
      "\n",
      "\n",
      "\n",
      "\n",
      "\n",
      "\n",
      "\n",
      "100%|██████████| 12/12 [00:18<00:00,  3.83it/s]\u001b[A\u001b[A\u001b[A\u001b[A\u001b[A\u001b[A\u001b[A"
     ]
    }
   ],
   "source": [
    "from multiprocessing import Pool\n",
    "from multiprocessing.pool import ThreadPool as Pool\n",
    "from tqdm import tqdm\n",
    "\n",
    "def get_stuff(sess):\n",
    "    return sess.Item.last(50)\n",
    "    \n",
    "\n",
    "with Pool(12) as pool:\n",
    "    results = pool.imap_unordered(get_stuff, [session]*12)\n",
    "    pbar = tqdm(total=12)\n",
    "    all_results = []\n",
    "    while True:\n",
    "        try:\n",
    "            all_results += next(results)\n",
    "            print(\"ok\")\n",
    "            pbar.update()\n",
    "        except StopIteration:\n",
    "            break\n",
    "print(len(all_results))"
   ]
  },
  {
   "cell_type": "code",
   "execution_count": 31,
   "metadata": {},
   "outputs": [],
   "source": [
    "session.Item.last(600);"
   ]
  },
  {
   "cell_type": "code",
   "execution_count": null,
   "metadata": {},
   "outputs": [],
   "source": []
  }
 ],
 "metadata": {
  "kernelspec": {
   "display_name": "Python 3",
   "language": "python",
   "name": "python3"
  },
  "language_info": {
   "codemirror_mode": {
    "name": "ipython",
    "version": 3
   },
   "file_extension": ".py",
   "mimetype": "text/x-python",
   "name": "python",
   "nbconvert_exporter": "python",
   "pygments_lexer": "ipython3",
   "version": "3.8.3"
  }
 },
 "nbformat": 4,
 "nbformat_minor": 4
}
